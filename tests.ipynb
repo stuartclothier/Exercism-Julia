{
 "cells": [
  {
   "cell_type": "code",
   "execution_count": 63,
   "id": "596e2b32",
   "metadata": {},
   "outputs": [
    {
     "data": {
      "text/plain": [
       "\"Abcdefghijklmnopqrstuvwxyz\""
      ]
     },
     "execution_count": 63,
     "metadata": {},
     "output_type": "execute_result"
    }
   ],
   "source": []
  },
  {
   "cell_type": "code",
   "execution_count": 32,
   "id": "6c6e9896",
   "metadata": {
    "collapsed": true,
    "jupyter": {
     "outputs_hidden": true,
     "source_hidden": true
    },
    "tags": []
   },
   "outputs": [
    {
     "name": "stdout",
     "output_type": "stream",
     "text": [
      "CharCharCharCharCharCharCharCharCharCharCharCharCharCharCharCharCharCharCharCharCharCharCharCharCharChar"
     ]
    }
   ],
   "source": [
    "for each in str\n",
    "    if each in 'a':'z'\n",
    "        print(typeof(each))\n",
    "        new = Int(each)\n",
    "    end\n",
    "end"
   ]
  },
  {
   "cell_type": "code",
   "execution_count": 35,
   "id": "787ae7c2",
   "metadata": {
    "collapsed": true,
    "jupyter": {
     "outputs_hidden": true,
     "source_hidden": true
    },
    "tags": []
   },
   "outputs": [
    {
     "data": {
      "text/plain": [
       "98"
      ]
     },
     "execution_count": 35,
     "metadata": {},
     "output_type": "execute_result"
    }
   ],
   "source": [
    "Int(str[2])"
   ]
  },
  {
   "cell_type": "code",
   "execution_count": 21,
   "id": "cf519a05",
   "metadata": {
    "collapsed": true,
    "jupyter": {
     "outputs_hidden": true,
     "source_hidden": true
    },
    "tags": []
   },
   "outputs": [
    {
     "name": "stdout",
     "output_type": "stream",
     "text": [
      "'a':1:'z'"
     ]
    }
   ],
   "source": [
    "print(Char(97):Char(122))"
   ]
  },
  {
   "cell_type": "code",
   "execution_count": 24,
   "id": "4d96cb5b",
   "metadata": {
    "collapsed": true,
    "jupyter": {
     "outputs_hidden": true,
     "source_hidden": true
    },
    "tags": []
   },
   "outputs": [
    {
     "data": {
      "text/plain": [
       "97"
      ]
     },
     "execution_count": 24,
     "metadata": {},
     "output_type": "execute_result"
    }
   ],
   "source": [
    "Int('a')"
   ]
  },
  {
   "cell_type": "code",
   "execution_count": 41,
   "id": "648eccab",
   "metadata": {
    "collapsed": true,
    "jupyter": {
     "outputs_hidden": true,
     "source_hidden": true
    },
    "tags": []
   },
   "outputs": [
    {
     "data": {
      "text/plain": [
       "\"opqrstuvwxyzabcdefghijklm\""
      ]
     },
     "execution_count": 41,
     "metadata": {},
     "output_type": "execute_result"
    }
   ],
   "source": [
    "list = String([ Char(97+(Int(each)-97+13)%26) for each in str if each in 'a':'z' elseif each in])"
   ]
  },
  {
   "cell_type": "code",
   "execution_count": 48,
   "id": "a23974f4",
   "metadata": {
    "collapsed": true,
    "jupyter": {
     "outputs_hidden": true,
     "source_hidden": true
    },
    "tags": []
   },
   "outputs": [
    {
     "data": {
      "text/plain": [
       "'A':1:'Z'"
      ]
     },
     "execution_count": 48,
     "metadata": {},
     "output_type": "execute_result"
    }
   ],
   "source": [
    "Char(65):Char(90)"
   ]
  },
  {
   "cell_type": "code",
   "execution_count": 64,
   "id": "095c6aff",
   "metadata": {
    "jupyter": {
     "source_hidden": true
    },
    "tags": []
   },
   "outputs": [],
   "source": [
    "for each in str\n",
    "    if each in 'a':'z'\n",
    "        each = Char(97+(Int(each)-97+13)%26)\n",
    "    end\n",
    "end"
   ]
  },
  {
   "cell_type": "code",
   "execution_count": 65,
   "id": "566c9873",
   "metadata": {
    "collapsed": true,
    "jupyter": {
     "outputs_hidden": true,
     "source_hidden": true
    },
    "tags": []
   },
   "outputs": [
    {
     "data": {
      "text/plain": [
       "\"Abcdefghijklmnopqrstuvwxyz\""
      ]
     },
     "execution_count": 65,
     "metadata": {},
     "output_type": "execute_result"
    }
   ],
   "source": [
    "str"
   ]
  },
  {
   "cell_type": "code",
   "execution_count": 123,
   "id": "1823c1b5",
   "metadata": {},
   "outputs": [
    {
     "data": {
      "text/plain": [
       "\"Abcdefghijklmnopqrstuvwxyz\""
      ]
     },
     "execution_count": 123,
     "metadata": {},
     "output_type": "execute_result"
    }
   ],
   "source": [
    "str = \"Abcdefghijklmnopqrstuvwxyz\""
   ]
  },
  {
   "cell_type": "code",
   "execution_count": 192,
   "id": "85ce2bfe",
   "metadata": {},
   "outputs": [
    {
     "data": {
      "text/plain": [
       "@R13_str (macro with 1 method)"
      ]
     },
     "execution_count": 192,
     "metadata": {},
     "output_type": "execute_result"
    }
   ],
   "source": [
    "function rotate(ROT,string)\n",
    "    codebase = [i for i in 1:126]\n",
    "    [(codebase[i],codebase[j]) = (Int('A')+(i-Int('A')+ROT)%26, Int('a')+(j-Int('a')+ROT)%26) for i in 65:90 for j in 97:122];\n",
    "\n",
    "    Coded_array = [Char(codebase[Int(each)]) for each in string]\n",
    "    if typeof(string) == String\n",
    "        String(Coded_array)\n",
    "    else\n",
    "        Char(Coded_array[1])\n",
    "    end\n",
    "end\n",
    "\n",
    "for i = 0:26\n",
    "    @eval macro $(Symbol(\"R$(i)_str\"))(s)\n",
    "        rotate($i,s)\n",
    "    end\n",
    "end"
   ]
  },
  {
   "cell_type": "code",
   "execution_count": 152,
   "id": "f8ff9ff7",
   "metadata": {},
   "outputs": [
    {
     "data": {
      "text/plain": [
       "\"The quick brown fox jumps over the lazy dog.\""
      ]
     },
     "execution_count": 152,
     "metadata": {},
     "output_type": "execute_result"
    }
   ],
   "source": [
    "rotate(13,\"Gur dhvpx oebja sbk whzcf bire gur ynml qbt.\")"
   ]
  },
  {
   "cell_type": "code",
   "execution_count": 150,
   "id": "a747a9b3",
   "metadata": {},
   "outputs": [
    {
     "data": {
      "text/plain": [
       "'a': ASCII/Unicode U+0061 (category Ll: Letter, lowercase)"
      ]
     },
     "execution_count": 150,
     "metadata": {},
     "output_type": "execute_result"
    }
   ],
   "source": [
    "rotate(0,'a')"
   ]
  },
  {
   "cell_type": "code",
   "execution_count": 213,
   "id": "c92ac1e1",
   "metadata": {},
   "outputs": [],
   "source": [
    "\n",
    "    "
   ]
  },
  {
   "cell_type": "code",
   "execution_count": 214,
   "id": "c8c05b8f",
   "metadata": {},
   "outputs": [
    {
     "data": {
      "text/plain": [
       "\"Jello\""
      ]
     },
     "execution_count": 214,
     "metadata": {},
     "output_type": "execute_result"
    }
   ],
   "source": [
    "R26\"Jello\""
   ]
  },
  {
   "cell_type": "code",
   "execution_count": 195,
   "id": "62b1ec54",
   "metadata": {},
   "outputs": [
    {
     "ename": "LoadError",
     "evalue": "LoadError: \u001b[91mUndefVarError: i not defined\u001b[39m\nin expression starting at In[195]:1",
     "output_type": "error",
     "traceback": [
      "LoadError: \u001b[91mUndefVarError: i not defined\u001b[39m\nin expression starting at In[195]:1",
      "",
      "Stacktrace:",
      " [1] @R13_str(::LineNumberNode, ::Module, ::Any) at .\\In[194]:3",
      " [2] include_string(::Function, ::Module, ::String, ::String) at .\\loading.jl:1091"
     ]
    }
   ],
   "source": [
    "R13\"Jello\""
   ]
  },
  {
   "cell_type": "code",
   "execution_count": 208,
   "id": "e71fca8f",
   "metadata": {},
   "outputs": [],
   "source": [
    "for i=0:26\n",
    "  @eval macro $(Symbol('R', i, \"_str\"))(s)\n",
    "      rotate($i, s)\n",
    "  end\n",
    "end"
   ]
  },
  {
   "cell_type": "code",
   "execution_count": 209,
   "id": "1c190e82",
   "metadata": {},
   "outputs": [
    {
     "data": {
      "text/plain": [
       "\"Wryyb\""
      ]
     },
     "execution_count": 209,
     "metadata": {},
     "output_type": "execute_result"
    }
   ],
   "source": [
    "R13\"Jello\""
   ]
  },
  {
   "cell_type": "code",
   "execution_count": null,
   "id": "c6dc5101",
   "metadata": {},
   "outputs": [],
   "source": []
  }
 ],
 "metadata": {
  "kernelspec": {
   "display_name": "Julia 1.5.3",
   "language": "julia",
   "name": "julia-1.5"
  },
  "language_info": {
   "file_extension": ".jl",
   "mimetype": "application/julia",
   "name": "julia",
   "version": "1.5.3"
  }
 },
 "nbformat": 4,
 "nbformat_minor": 5
}
